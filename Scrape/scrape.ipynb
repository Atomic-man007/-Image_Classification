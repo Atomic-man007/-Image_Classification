{
 "cells": [
  {
   "cell_type": "code",
   "execution_count": 11,
   "metadata": {},
   "outputs": [
    {
     "name": "stdout",
     "output_type": "stream",
     "text": [
      "[INFO] Gathering image links\n",
      "[INFO] happy_people \t #0 \t https://www.incimages.com/uploaded_files/image/1920x1080/getty_478389113_970647970450091_99776.jpg\n",
      "[INFO] happy_people \t #1 \t https://imageio.forbes.com/specials-images/dam/imageserve/1084793354/960x0.jpg?format=jpg&width=960\n",
      "[INFO] happy_people \t #2 \t https://thumbs.dreamstime.com/z/goup-happy-people-group-jumping-isolated-white-background-35582232.jpg\n",
      "[INFO] Google search ended\n",
      "happy_people_3\n",
      "[INFO] Saving image, please wait...\n",
      "[INFO] Image url:https://www.incimages.com/uploaded_files/image/1920x1080/getty_478389113_970647970450091_99776.jpg\n",
      "[INFO] happy_people \t 0 \t Image saved at: c:\\Users\\srika\\Documents\\git_data\\Image_Classification\\Scrape\\photos\\happy_people\\getty_478389113_970647970450091_99776.jpeg\n",
      "[INFO] Image url:https://imageio.forbes.com/specials-images/dam/imageserve/1084793354/960x0.jpg?format=jpg&width=960\n",
      "[INFO] happy_people \t 1 \t Image saved at: c:\\Users\\srika\\Documents\\git_data\\Image_Classification\\Scrape\\photos\\happy_people\\960x0.jpeg\n",
      "[INFO] Image url:https://thumbs.dreamstime.com/z/goup-happy-people-group-jumping-isolated-white-background-35582232.jpg\n",
      "[INFO] happy_people \t 2 \t Image saved at: c:\\Users\\srika\\Documents\\git_data\\Image_Classification\\Scrape\\photos\\happy_people\\goup-happy-people-group-jumping-isolated-white-background-35582232.jpeg\n",
      "--------------------------------------------------\n",
      "[INFO] Downloads completed. Please note that some photos were not downloaded as they were not in the correct format (e.g. jpg, jpeg, png)\n",
      "[INFO] Gathering image links\n",
      "[INFO] sad_people \t #0 \t https://cdn.pixabay.com/photo/2017/08/01/18/59/people-2567395__340.jpg\n",
      "[INFO] sad_people \t #1 \t https://as1.ftcdn.net/v2/jpg/02/26/07/48/1000_F_226074800_9E3uskBOPUQgEkKS5fGdEVma4DnWf93e.jpg\n",
      "[INFO] sad_people \t #2 \t https://www.goodtherapy.org/blog/blog/wp-content/uploads/2014/12/man-with-head-down-300x300.jpg\n",
      "[INFO] Google search ended\n",
      "sad_people_3\n",
      "[INFO] Saving image, please wait...\n",
      "[INFO] Image url:https://cdn.pixabay.com/photo/2017/08/01/18/59/people-2567395__340.jpg\n",
      "[INFO] sad_people \t 0 \t Image saved at: c:\\Users\\srika\\Documents\\git_data\\Image_Classification\\Scrape\\photos\\sad_people\\people-2567395__340.jpeg\n",
      "[INFO] Image url:https://as1.ftcdn.net/v2/jpg/02/26/07/48/1000_F_226074800_9E3uskBOPUQgEkKS5fGdEVma4DnWf93e.jpg\n",
      "[INFO] sad_people \t 1 \t Image saved at: c:\\Users\\srika\\Documents\\git_data\\Image_Classification\\Scrape\\photos\\sad_people\\1000_F_226074800_9E3uskBOPUQgEkKS5fGdEVma4DnWf93e.jpeg\n",
      "[INFO] Image url:https://www.goodtherapy.org/blog/blog/wp-content/uploads/2014/12/man-with-head-down-300x300.jpg\n",
      "[INFO] sad_people \t 2 \t Image saved at: c:\\Users\\srika\\Documents\\git_data\\Image_Classification\\Scrape\\photos\\sad_people\\man-with-head-down-300x300.jpeg\n",
      "--------------------------------------------------\n",
      "[INFO] Downloads completed. Please note that some photos were not downloaded as they were not in the correct format (e.g. jpg, jpeg, png)\n"
     ]
    }
   ],
   "source": [
    "import os\n",
    "from GoogleImageScraper import GoogleImageScraper\n",
    "from patch import webdriver_executable\n",
    "\n",
    "webdriver_path = os.path.normpath(os.path.join(os.getcwd(), 'webdriver', webdriver_executable()))\n",
    "image_path = os.path.normpath(os.path.join(os.getcwd(), 'photos'))\n",
    "#add new search key into array [\"cat\",\"t-shirt\",\"apple\",\"orange\",\"pear\",\"fish\"]\n",
    "\n",
    "search_keys= [\"happy_people\",\"sad_people\"]\n",
    "number_of_images = 3\n",
    "headless = False\n",
    "#min_resolution = (width,height)\n",
    "min_resolution=(0,0)\n",
    "#max_resolution = (width,height)\n",
    "max_resolution=(1920,1080)\n",
    "keep_filenames = False\n",
    "\n",
    "for search_key in search_keys:\n",
    "    image_scraper = GoogleImageScraper(webdriver_path,image_path,search_key,number_of_images,headless,min_resolution,max_resolution)\n",
    "    image_urls = image_scraper.find_image_urls()\n",
    "    image_scraper.save_images(image_urls, keep_filenames)"
   ]
  },
  {
   "cell_type": "code",
   "execution_count": 9,
   "metadata": {},
   "outputs": [
    {
     "name": "stdout",
     "output_type": "stream",
     "text": [
      "happy people_0\n",
      "sad people_0\n",
      "happy people_1\n",
      "sad people_1\n",
      "happy people_2\n",
      "sad people_2\n",
      "happy people_3\n",
      "sad people_3\n",
      "happy people_4\n",
      "sad people_4\n",
      "happy people_5\n",
      "sad people_5\n",
      "happy people_6\n",
      "sad people_6\n",
      "happy people_7\n",
      "sad people_7\n",
      "happy people_8\n",
      "sad people_8\n",
      "happy people_9\n",
      "sad people_9\n",
      "happy people_10\n",
      "sad people_10\n",
      "happy people_11\n",
      "sad people_11\n",
      "happy people_12\n",
      "sad people_12\n",
      "happy people_13\n",
      "sad people_13\n",
      "happy people_14\n",
      "sad people_14\n",
      "happy people_15\n",
      "sad people_15\n",
      "happy people_16\n",
      "sad people_16\n",
      "happy people_17\n",
      "sad people_17\n",
      "happy people_18\n",
      "sad people_18\n",
      "happy people_19\n",
      "sad people_19\n"
     ]
    }
   ],
   "source": [
    "search_keys= [\"happy people\",\"sad people\"]\n",
    "for i in range(number_of_images):\n",
    "    for s in search_keys:\n",
    "        tt = s +\"_\"+ str(i)\n",
    "        print(tt)"
   ]
  },
  {
   "cell_type": "code",
   "execution_count": null,
   "metadata": {},
   "outputs": [],
   "source": []
  }
 ],
 "metadata": {
  "kernelspec": {
   "display_name": "gpuone",
   "language": "python",
   "name": "python3"
  },
  "language_info": {
   "codemirror_mode": {
    "name": "ipython",
    "version": 3
   },
   "file_extension": ".py",
   "mimetype": "text/x-python",
   "name": "python",
   "nbconvert_exporter": "python",
   "pygments_lexer": "ipython3",
   "version": "3.8.12"
  },
  "orig_nbformat": 4,
  "vscode": {
   "interpreter": {
    "hash": "09a3d729de5886f3146b54f6e74ca4a956285ac83f1dc82131aaebc796d994d8"
   }
  }
 },
 "nbformat": 4,
 "nbformat_minor": 2
}
